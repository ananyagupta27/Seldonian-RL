{
 "cells": [
  {
   "cell_type": "markdown",
   "metadata": {},
   "source": [
    "Example usage of QSA with all default values for QSA but shown here for clarification - <br>\n",
    "Environment  ====> Gridworldv2 <br>\n",
    "Optimizer    ====> CMA <br>\n",
    "IS Estimator ====> PDIS <br>\n",
    "CIS          ====> ttest <br>"
   ]
  },
  {
   "cell_type": "markdown",
   "metadata": {},
   "source": [
    "# Import modules"
   ]
  },
  {
   "cell_type": "code",
   "execution_count": 1,
   "metadata": {
    "collapsed": true
   },
   "outputs": [],
   "source": [
    "import timeit\n",
    "import sys\n",
    "import os\n",
    "from sklearn.model_selection import train_test_split\n",
    "from gym import spaces\n",
    "\n",
    "# import QSA library\n",
    "from qsa import QSA\n",
    "\n",
    "# import environment module that you want to use\n",
    "from environments.gridworldv2 import Gridworldv2\n",
    "from environments.gridworld687 import Gridworld687\n",
    "from environments.gridworldv1 import Gridworldv1\n",
    "from environments.mountaincar import Mountaincar\n",
    "from environments.cartpole import Cartpole\n",
    "\n",
    "\n",
    "# import data creation modules\n",
    "from data.create_dataset import Dataset\n",
    "from data.create_model import Model\n",
    "\n",
    "# import optimizer module as desired\n",
    "# optimizer library gives cma, powell and bfgs from scipy\n",
    "from optimizers.optimizer_library import *\n",
    "# cross entropy\n",
    "from optimizers.cem import *\n",
    "# CMA-ES\n",
    "from optimizers.cmaes import *\n",
    "\n",
    "# import all importance sampling estimator modules\n",
    "from estimators.is_estimators import *\n",
    "\n",
    "\n",
    "# import CIS module\n",
    "from bounds.confidence_intervals import *\n",
    "\n",
    "# import utility modules\n",
    "from utils_dir import *"
   ]
  },
  {
   "cell_type": "markdown",
   "metadata": {},
   "source": [
    "# Environments"
   ]
  },
  {
   "cell_type": "code",
   "execution_count": 2,
   "metadata": {},
   "outputs": [],
   "source": [
    "# The available environment implementations\n",
    "# for a new environment inherit the environment class and implement all methods\n",
    "# Refer to - https://github.com/ananyagupta27/Seldonian-RL/blob/main/environments/environment.py\n",
    "# and other environments in the same folder\n",
    "env_map = {0: 'Mountaincar', 1: 'Gridworldv1', 2: 'Gridworldv2', 3: 'Gridworld687', 4: 'Cartpole'}\n",
    "# Choose an environment\n",
    "env = Gridworldv2()"
   ]
  },
  {
   "cell_type": "markdown",
   "metadata": {},
   "source": [
    "# Importance Sampling estimators"
   ]
  },
  {
   "cell_type": "code",
   "execution_count": 3,
   "metadata": {
    "collapsed": true
   },
   "outputs": [],
   "source": [
    "# The following is the list of importance sampling estimators available\n",
    "# In order to add more estimators add functions in estimators/is_estimators.py\n",
    "# PDIS, IS, WIS, DR, DR_hat supported \n",
    "fHat = PDIS"
   ]
  },
  {
   "cell_type": "markdown",
   "metadata": {},
   "source": [
    "# Confidence Intervals"
   ]
  },
  {
   "cell_type": "code",
   "execution_count": 4,
   "metadata": {},
   "outputs": [],
   "source": [
    "# The following is the list of confidence intervals available\n",
    "# In order to add more estimators add functions in bounds/confidence_intervals.py\n",
    "# ttest, Anderson, MPeB, Phil, Hoeffding supported \n",
    "cis = ttestLB\n",
    "# Lower bound because the safety requirement in this example is to best a random behavior performance, \n",
    "# hence provide probabilistic guarantees on the lower bound "
   ]
  },
  {
   "cell_type": "markdown",
   "metadata": {},
   "source": [
    "# Optimizers"
   ]
  },
  {
   "cell_type": "code",
   "execution_count": 5,
   "metadata": {},
   "outputs": [],
   "source": [
    "# Optimizers available - Powell, CMA, CMAES, BFGS, CEM supported [default: CMA]\n",
    "\n",
    "# initialize initial policy parameter\n",
    "# initializing with zeros would mean uniform random action selection policy after taking softmax\n",
    "theta = np.zeros((env.getStateDims(), env.getNumActions()))\n",
    "\n",
    "# initialize optimizer with initial solution and the function to optimize\n",
    "optimizer = CMA"
   ]
  },
  {
   "cell_type": "markdown",
   "metadata": {},
   "source": [
    "# Create Dataset"
   ]
  },
  {
   "cell_type": "code",
   "execution_count": 9,
   "metadata": {
    "collapsed": true
   },
   "outputs": [],
   "source": [
    "# select a candidate-safety dataset split\n",
    "split_ratio = 0.5\n",
    "episodes_of_data = 1000\n",
    "\n",
    "# runs over the selected environment to generate episodes of data\n",
    "datasetGenerator = Dataset(episodes_of_data, env)\n",
    "# generate data with the initial random policy\n",
    "dataset = datasetGenerator.generate_dataset(theta)\n",
    "\n",
    "# split dataset into candidate and safety datasets\n",
    "candidateDataset, safetyDataset = split_dataset(dataset, split_ratio)"
   ]
  },
  {
   "cell_type": "markdown",
   "metadata": {},
   "source": [
    "# QSA (Quasi Seldonian Algorithm)"
   ]
  },
  {
   "cell_type": "code",
   "execution_count": 16,
   "metadata": {},
   "outputs": [],
   "source": [
    "# giving failure rate = 0.01 which is delta\n",
    "delta = 0.01\n",
    "\n",
    "# initializing QSA with all parameter selected as above (each has default values, refer to documentation)\n",
    "qsa = QSA(env, int(episodes_of_data*split_ratio), fHat, delta, candidateDataset, safetyDataset, cis=cis, optimizer=optimizer) "
   ]
  },
  {
   "cell_type": "markdown",
   "metadata": {},
   "source": [
    "# Obtaining Candidate Solution"
   ]
  },
  {
   "cell_type": "code",
   "execution_count": 11,
   "metadata": {},
   "outputs": [
    {
     "name": "stdout",
     "output_type": "stream",
     "text": [
      "CMA\n",
      "(8_w,16)-aCMA-ES (mu_w=4.8,w_1=32%) in dimension 64 (seed=983998, Sat Dec 12 20:05:32 2020)\n",
      "Iterat #Fevals   function value  axis ratio  sigma  min&max std  t[m:s]\n",
      "    1     16 1.000245466710725e+05 1.0e+00 4.75e-01  5e-01  5e-01 0:16.3\n",
      "    2     32 1.000074403536040e+05 1.0e+00 4.55e-01  5e-01  5e-01 0:31.2\n",
      "    3     48 1.000155785264909e+05 1.0e+00 4.40e-01  4e-01  4e-01 0:49.5\n",
      "    4     64 1.000025429231585e+05 1.0e+00 4.23e-01  4e-01  4e-01 1:08.2\n",
      "    5     80 1.000003702167943e+05 1.0e+00 4.13e-01  4e-01  4e-01 1:24.5\n",
      "    6     96 1.000043218841156e+05 1.1e+00 4.06e-01  4e-01  4e-01 1:39.8\n",
      "    7    112 9.999577539049044e+04 1.1e+00 4.01e-01  4e-01  4e-01 2:02.8\n",
      "    8    128 9.999518255284854e+04 1.1e+00 3.97e-01  4e-01  4e-01 2:27.9\n",
      "    9    144 9.998647439812800e+04 1.1e+00 3.93e-01  4e-01  4e-01 2:44.5\n",
      "   10    160 9.998155029834039e+04 1.1e+00 3.88e-01  4e-01  4e-01 3:02.0\n",
      "   11    176 9.998335236067725e+04 1.1e+00 3.81e-01  4e-01  4e-01 3:17.8\n",
      "   12    192 9.999409868874573e+04 1.1e+00 3.76e-01  4e-01  4e-01 3:38.3\n",
      "   13    208 9.998284913333203e+04 1.1e+00 3.69e-01  4e-01  4e-01 4:00.1\n",
      "   14    224 9.997718448559316e+04 1.1e+00 3.64e-01  4e-01  4e-01 4:23.5\n",
      "   15    240 9.997319887970862e+04 1.1e+00 3.59e-01  4e-01  4e-01 4:45.7\n",
      "termination on maxiter=15 (Sat Dec 12 20:10:19 2020)\n",
      "final/bestever f-value = -9.510128e+01 -9.510128e+01\n",
      "incumbent solution: [-0.23026852 -0.12605438  0.03937284 -0.09534596  0.15681257  0.63013497\n",
      "  0.44250409  0.42806969 ...]\n",
      "std deviations: [0.35767786 0.35785577 0.35790561 0.35694536 0.35656343 0.35993695\n",
      " 0.35811579 0.3573769  ...]\n",
      "function value at x_min is -95.10127947639938\n"
     ]
    }
   ],
   "source": [
    "solution = qsa.getCandidateSolution()"
   ]
  },
  {
   "cell_type": "markdown",
   "metadata": {},
   "source": [
    "# Performing Safety Test"
   ]
  },
  {
   "cell_type": "code",
   "execution_count": 17,
   "metadata": {},
   "outputs": [],
   "source": [
    "result, estimates = qsa.fHat(solution, safetyDataset, int(episodes_of_data*split_ratio), env)\n",
    "passedSafetyTest, lb = qsa.safety_test(estimates, int(episodes_of_data*split_ratio), delta=0.01, factor=1)"
   ]
  },
  {
   "cell_type": "markdown",
   "metadata": {},
   "source": [
    "# Results"
   ]
  },
  {
   "cell_type": "code",
   "execution_count": 18,
   "metadata": {},
   "outputs": [
    {
     "name": "stdout",
     "output_type": "stream",
     "text": [
      "lower bound =  56.34744057407149 PDIS estimate =  98.6329588091057 passed safety test =  True\n"
     ]
    }
   ],
   "source": [
    "print(\"lower bound = \", lb, \"PDIS estimate = \", result, \"passed safety test = \", passedSafetyTest)"
   ]
  },
  {
   "cell_type": "markdown",
   "metadata": {
    "collapsed": true
   },
   "source": [
    " (Optimal value for this domain is around 95 and this estimate is very close to the expected solution)"
   ]
  },
  {
   "cell_type": "markdown",
   "metadata": {},
   "source": [
    "# Policy Learned"
   ]
  },
  {
   "cell_type": "code",
   "execution_count": 20,
   "metadata": {},
   "outputs": [
    {
     "name": "stdout",
     "output_type": "stream",
     "text": [
      "[[-0.23026852 -0.12605438  0.03937284 -0.09534596]\n",
      " [ 0.15681257  0.63013497  0.44250409  0.42806969]\n",
      " [-0.25162532  0.18870361  0.75923558  0.55164717]\n",
      " [-0.15134266 -0.41557884 -0.73433601  0.89512895]\n",
      " [-1.07159732  0.74582771  0.21210795 -0.14943435]\n",
      " [-0.96937218  0.69061937 -0.04948645 -0.06326128]\n",
      " [-0.16207679  0.06645783 -0.17995619  0.21348601]\n",
      " [-0.7725456  -1.28605593 -0.67668946  0.79263468]\n",
      " [-0.29855585  0.73174064  0.10162056 -0.27585082]\n",
      " [ 0.23798618  1.17084567 -1.16541824  0.28122553]\n",
      " [-0.05435876  0.91513922 -0.16608842  0.90972586]\n",
      " [ 0.27430375 -0.90226269 -0.0485854   1.20058051]\n",
      " [-0.2598932   0.33794037  0.28827164  0.14931284]\n",
      " [-1.027389   -0.63214268 -0.25042047 -0.49438158]\n",
      " [ 0.06530747  0.65102643  0.62531958 -1.45980724]\n",
      " [-0.21890324  0.03134366 -0.15776815  0.50272296]]\n"
     ]
    }
   ],
   "source": [
    "print(solution.reshape(env.getStateDims(), env.getNumActions()))"
   ]
  },
  {
   "cell_type": "code",
   "execution_count": null,
   "metadata": {
    "collapsed": true
   },
   "outputs": [],
   "source": []
  },
  {
   "cell_type": "code",
   "execution_count": null,
   "metadata": {
    "collapsed": true
   },
   "outputs": [],
   "source": []
  }
 ],
 "metadata": {
  "kernelspec": {
   "display_name": "Python 3",
   "language": "python",
   "name": "python3"
  },
  "language_info": {
   "codemirror_mode": {
    "name": "ipython",
    "version": 3
   },
   "file_extension": ".py",
   "mimetype": "text/x-python",
   "name": "python",
   "nbconvert_exporter": "python",
   "pygments_lexer": "ipython3",
   "version": "3.6.9"
  }
 },
 "nbformat": 4,
 "nbformat_minor": 2
}
