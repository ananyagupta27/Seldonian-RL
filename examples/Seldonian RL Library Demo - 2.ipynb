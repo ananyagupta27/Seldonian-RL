{
 "cells": [
  {
   "cell_type": "markdown",
   "metadata": {},
   "source": [
    "Example usage of QSA with all default values for QSA but shown here for clarification - <br>\n",
    "Environment  ====> Gridworldv2 <br>\n",
    "Optimizer    ====> CMA <br>\n",
    "IS Estimator ====> PDIS <br>\n",
    "CIS          ====> ttest <br>"
   ]
  },
  {
   "cell_type": "markdown",
   "metadata": {},
   "source": [
    "# Import modules"
   ]
  },
  {
   "cell_type": "code",
   "execution_count": 1,
   "metadata": {
    "collapsed": true
   },
   "outputs": [],
   "source": [
    "import timeit\n",
    "import sys\n",
    "import os\n",
    "from sklearn.model_selection import train_test_split\n",
    "from gym import spaces\n",
    "\n",
    "# import QSA library\n",
    "from qsa import QSA\n",
    "\n",
    "# import environment module that you want to use\n",
    "from environments.gridworldv2 import Gridworldv2\n",
    "from environments.gridworld687 import Gridworld687\n",
    "from environments.gridworldv1 import Gridworldv1\n",
    "from environments.mountaincar import Mountaincar\n",
    "from environments.cartpole import Cartpole\n",
    "\n",
    "\n",
    "# import data creation modules\n",
    "from data.create_dataset import Dataset\n",
    "from data.create_model import Model\n",
    "\n",
    "# import optimizer module as desired\n",
    "# optimizer library gives cma, powell and bfgs from scipy\n",
    "from optimizers.optimizer_library import *\n",
    "# cross entropy\n",
    "from optimizers.cem import *\n",
    "# CMA-ES\n",
    "from optimizers.cmaes import *\n",
    "\n",
    "# import all importance sampling estimator modules\n",
    "from estimators.is_estimators import *\n",
    "\n",
    "\n",
    "# import CIS module\n",
    "from bounds.confidence_intervals import *\n",
    "\n",
    "# import utility modules\n",
    "from utils_dir import *"
   ]
  },
  {
   "cell_type": "markdown",
   "metadata": {},
   "source": [
    "# Environments"
   ]
  },
  {
   "cell_type": "code",
   "execution_count": 2,
   "metadata": {
    "collapsed": true
   },
   "outputs": [],
   "source": [
    "# The available environment implementations\n",
    "# for a new environment inherit the environment class and implement all methods\n",
    "# Refer to - https://github.com/ananyagupta27/Seldonian-RL/blob/main/environments/environment.py\n",
    "# and other environments in the same folder\n",
    "env_map = {0: 'Mountaincar', 1: 'Gridworldv1', 2: 'Gridworldv2', 3: 'Gridworld687', 4: 'Cartpole'}\n",
    "# Choose an environment\n",
    "env = Gridworldv2()"
   ]
  },
  {
   "cell_type": "markdown",
   "metadata": {},
   "source": [
    "# Importance Sampling estimators"
   ]
  },
  {
   "cell_type": "code",
   "execution_count": 3,
   "metadata": {
    "collapsed": true
   },
   "outputs": [],
   "source": [
    "# The following is the list of importance sampling estimators available\n",
    "# In order to add more estimators add functions in estimators/is_estimators.py\n",
    "# PDIS, IS, WIS, DR, DR_hat supported \n",
    "fHat = PDIS"
   ]
  },
  {
   "cell_type": "markdown",
   "metadata": {},
   "source": [
    "# Confidence Intervals"
   ]
  },
  {
   "cell_type": "code",
   "execution_count": 4,
   "metadata": {
    "collapsed": true
   },
   "outputs": [],
   "source": [
    "# The following is the list of confidence intervals available\n",
    "# In order to add more estimators add functions in bounds/confidence_intervals.py\n",
    "# ttest, Anderson, MPeB, Phil, Hoeffding supported \n",
    "cis = ttestLB\n",
    "# Lower bound because the safety requirement in this example is to best a random behavior performance, \n",
    "# hence provide probabilistic guarantees on the lower bound "
   ]
  },
  {
   "cell_type": "markdown",
   "metadata": {},
   "source": [
    "# Optimizers"
   ]
  },
  {
   "cell_type": "code",
   "execution_count": 5,
   "metadata": {
    "collapsed": true
   },
   "outputs": [],
   "source": [
    "# Optimizers available - Powell, CMA, CMAES, BFGS, CEM supported [default: CMA]\n",
    "\n",
    "# initialize initial policy parameter\n",
    "# initializing with zeros would mean uniform random action selection policy after taking softmax\n",
    "theta = np.zeros((env.getStateDims(), env.getNumActions()))\n",
    "\n",
    "# initialize optimizer with initial solution and the function to optimize\n",
    "optimizer = CMA"
   ]
  },
  {
   "cell_type": "markdown",
   "metadata": {},
   "source": [
    "# Create Dataset"
   ]
  },
  {
   "cell_type": "code",
   "execution_count": 6,
   "metadata": {
    "collapsed": true
   },
   "outputs": [],
   "source": [
    "# select a candidate-safety dataset split\n",
    "split_ratio = 0.5\n",
    "episodes_of_data = 100\n",
    "\n",
    "# runs over the selected environment to generate episodes of data\n",
    "datasetGenerator = Dataset(episodes_of_data, env)\n",
    "# generate data with the initial random policy\n",
    "dataset = datasetGenerator.generate_dataset(theta)\n",
    "\n",
    "# split dataset into candidate and safety datasets\n",
    "candidateDataset, safetyDataset = split_dataset(dataset, split_ratio)"
   ]
  },
  {
   "cell_type": "markdown",
   "metadata": {},
   "source": [
    "# QSA (Quasi Seldonian Algorithm)"
   ]
  },
  {
   "cell_type": "code",
   "execution_count": 7,
   "metadata": {
    "collapsed": true
   },
   "outputs": [],
   "source": [
    "# giving failure rate = 0.01 which is delta\n",
    "delta = 0.01\n",
    "\n",
    "# initializing QSA with all parameter selected as above (each has default values, refer to documentation)\n",
    "qsa = QSA(env, int(episodes_of_data*split_ratio), fHat, delta, candidateDataset, safetyDataset, cis=cis, optimizer=optimizer) "
   ]
  },
  {
   "cell_type": "markdown",
   "metadata": {},
   "source": [
    "# Obtaining Candidate Solution"
   ]
  },
  {
   "cell_type": "code",
   "execution_count": 8,
   "metadata": {},
   "outputs": [
    {
     "name": "stdout",
     "output_type": "stream",
     "text": [
      "CMA\n",
      "(8_w,16)-aCMA-ES (mu_w=4.8,w_1=32%) in dimension 64 (seed=923213, Sat Dec 12 20:35:28 2020)\n",
      "Iterat #Fevals   function value  axis ratio  sigma  min&max std  t[m:s]\n",
      "    1     16 1.000250220267198e+05 1.0e+00 4.74e-01  5e-01  5e-01 0:01.6\n",
      "    2     32 1.000288589347467e+05 1.0e+00 4.55e-01  5e-01  5e-01 0:03.0\n",
      "    3     48 1.000286503782887e+05 1.0e+00 4.38e-01  4e-01  4e-01 0:04.3\n",
      "    6     96 1.000150668441777e+05 1.1e+00 4.06e-01  4e-01  4e-01 0:08.1\n",
      "    9    144 1.000156848811528e+05 1.1e+00 3.90e-01  4e-01  4e-01 0:12.5\n",
      "   13    208 1.000070053258650e+05 1.1e+00 3.92e-01  4e-01  4e-01 0:18.4\n",
      "   15    240 1.000050768444706e+05 1.1e+00 4.09e-01  4e-01  4e-01 0:20.9\n",
      "termination on maxiter=15 (Sat Dec 12 20:35:49 2020)\n",
      "final/bestever f-value = 1.000052e+05 1.000051e+05\n",
      "incumbent solution: [-0.42449132 -0.4619871   1.37357265  1.25319207 -0.42623942 -0.88361098\n",
      " -0.97652177  0.76095173 ...]\n",
      "std deviations: [0.40976959 0.40818407 0.40796657 0.40648359 0.40824479 0.40957908\n",
      " 0.40688403 0.4075331  ...]\n",
      "function value at x_min is 100005.07684447058\n"
     ]
    }
   ],
   "source": [
    "solution = qsa.getCandidateSolution()"
   ]
  },
  {
   "cell_type": "markdown",
   "metadata": {},
   "source": [
    "# Performing Safety Test"
   ]
  },
  {
   "cell_type": "code",
   "execution_count": 12,
   "metadata": {
    "collapsed": true
   },
   "outputs": [],
   "source": [
    "result, estimates = qsa.fHat(solution, safetyDataset, int(episodes_of_data*split_ratio), env)\n",
    "passedSafetyTest, lb = qsa.safety_test(estimates, int(episodes_of_data*split_ratio), delta=0.01, factor=1)"
   ]
  },
  {
   "cell_type": "markdown",
   "metadata": {},
   "source": [
    "# Results"
   ]
  },
  {
   "cell_type": "code",
   "execution_count": 13,
   "metadata": {},
   "outputs": [
    {
     "name": "stdout",
     "output_type": "stream",
     "text": [
      "lower bound =  -18.208714748788637 PDIS estimate =  -4.4269274850202525 passed safety test =  False\n"
     ]
    }
   ],
   "source": [
    "print(\"lower bound = \", lb, \"PDIS estimate = \", result, \"passed safety test = \", passedSafetyTest)"
   ]
  },
  {
   "cell_type": "markdown",
   "metadata": {
    "collapsed": true
   },
   "source": [
    " # Optimal value for this domain is around 95 \n",
    " # This estimate fails on the safety set (due to low amount of data)\n",
    " # No Solution Found"
   ]
  },
  {
   "cell_type": "code",
   "execution_count": null,
   "metadata": {
    "collapsed": true
   },
   "outputs": [],
   "source": []
  },
  {
   "cell_type": "code",
   "execution_count": null,
   "metadata": {},
   "outputs": [],
   "source": []
  },
  {
   "cell_type": "code",
   "execution_count": null,
   "metadata": {
    "collapsed": true
   },
   "outputs": [],
   "source": []
  },
  {
   "cell_type": "code",
   "execution_count": null,
   "metadata": {
    "collapsed": true
   },
   "outputs": [],
   "source": []
  }
 ],
 "metadata": {
  "kernelspec": {
   "display_name": "Python 3",
   "language": "python",
   "name": "python3"
  },
  "language_info": {
   "codemirror_mode": {
    "name": "ipython",
    "version": 3
   },
   "file_extension": ".py",
   "mimetype": "text/x-python",
   "name": "python",
   "nbconvert_exporter": "python",
   "pygments_lexer": "ipython3",
   "version": "3.6.9"
  }
 },
 "nbformat": 4,
 "nbformat_minor": 2
}
