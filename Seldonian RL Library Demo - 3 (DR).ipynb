{
 "cells": [
  {
   "cell_type": "markdown",
   "metadata": {},
   "source": [
    "Example usage of QSA with all default values for QSA but shown here for clarification - <br>\n",
    "Environment  ====> Mountaincar <br>\n",
    "Optimizer    ====> CMA <br>\n",
    "IS Estimator ====> DR_hat <br>\n",
    "CIS          ====> ttest <br>"
   ]
  },
  {
   "cell_type": "markdown",
   "metadata": {},
   "source": [
    "# Import modules"
   ]
  },
  {
   "cell_type": "code",
   "execution_count": 1,
   "metadata": {
    "collapsed": true
   },
   "outputs": [],
   "source": [
    "import timeit\n",
    "import sys\n",
    "import os\n",
    "from sklearn.model_selection import train_test_split\n",
    "from gym import spaces\n",
    "\n",
    "# import QSA library\n",
    "from qsa import QSA\n",
    "\n",
    "# import environment module that you want to use\n",
    "from environments.gridworldv2 import Gridworldv2\n",
    "from environments.gridworld687 import Gridworld687\n",
    "from environments.gridworldv1 import Gridworldv1\n",
    "from environments.mountaincar import Mountaincar\n",
    "from environments.cartpole import Cartpole\n",
    "\n",
    "\n",
    "# import data creation modules\n",
    "from data.create_dataset import Dataset\n",
    "from data.create_model import Model\n",
    "\n",
    "# import optimizer module as desired\n",
    "# optimizer library gives cma, powell and bfgs from scipy\n",
    "from optimizers.optimizer_library import *\n",
    "# cross entropy\n",
    "from optimizers.cem import *\n",
    "# CMA-ES\n",
    "from optimizers.cmaes import *\n",
    "\n",
    "# import all importance sampling estimator modules\n",
    "from estimators.is_estimators import *\n",
    "\n",
    "\n",
    "# import CIS module\n",
    "from bounds.confidence_intervals import *\n",
    "\n",
    "# import utility modules\n",
    "from utils_dir import *"
   ]
  },
  {
   "cell_type": "markdown",
   "metadata": {},
   "source": [
    "# Environments"
   ]
  },
  {
   "cell_type": "code",
   "execution_count": 2,
   "metadata": {},
   "outputs": [],
   "source": [
    "# The available environment implementations\n",
    "# for a new environment inherit the environment class and implement all methods\n",
    "# Refer to - https://github.com/ananyagupta27/Seldonian-RL/blob/main/environments/environment.py\n",
    "# and other environments in the same folder\n",
    "env_map = {0: 'Mountaincar', 1: 'Gridworldv1', 2: 'Gridworldv2', 3: 'Gridworld687', 4: 'Cartpole'}\n",
    "# Choose an environment\n",
    "env = Mountaincar(discrete=True)"
   ]
  },
  {
   "cell_type": "markdown",
   "metadata": {},
   "source": [
    "# Importance Sampling estimators"
   ]
  },
  {
   "cell_type": "code",
   "execution_count": 3,
   "metadata": {
    "collapsed": true
   },
   "outputs": [],
   "source": [
    "# The following is the list of importance sampling estimators available\n",
    "# In order to add more estimators add functions in estimators/is_estimators.py\n",
    "# PDIS, IS, WIS, DR, DR_hat supported \n",
    "fHat = DR_hat"
   ]
  },
  {
   "cell_type": "markdown",
   "metadata": {},
   "source": [
    "# Confidence Intervals"
   ]
  },
  {
   "cell_type": "code",
   "execution_count": 4,
   "metadata": {
    "collapsed": true
   },
   "outputs": [],
   "source": [
    "# The following is the list of confidence intervals available\n",
    "# In order to add more estimators add functions in bounds/confidence_intervals.py\n",
    "# ttest, Anderson, MPeB, Phil, Hoeffding supported \n",
    "cis = ttestLB\n",
    "# Lower bound because the safety requirement in this example is to best a random behavior performance, \n",
    "# hence provide probabilistic guarantees on the lower bound "
   ]
  },
  {
   "cell_type": "markdown",
   "metadata": {},
   "source": [
    "# Optimizers"
   ]
  },
  {
   "cell_type": "code",
   "execution_count": 5,
   "metadata": {
    "collapsed": true
   },
   "outputs": [],
   "source": [
    "# Optimizers available - Powell, CMA, CMAES, BFGS, CEM supported [default: CMA]\n",
    "\n",
    "# initialize initial policy parameter\n",
    "# initializing with zeros would mean uniform random action selection policy after taking softmax\n",
    "theta = np.zeros((env.getStateDims(), env.getNumActions()))\n",
    "\n",
    "# initialize optimizer with initial solution and the function to optimize\n",
    "optimizer = CMA"
   ]
  },
  {
   "cell_type": "markdown",
   "metadata": {},
   "source": [
    "# Create Dataset"
   ]
  },
  {
   "cell_type": "code",
   "execution_count": 6,
   "metadata": {},
   "outputs": [
    {
     "name": "stdout",
     "output_type": "stream",
     "text": [
      "p and R\n",
      "100 L 152 3\n",
      "calculated value functions\n",
      "done modeling\n",
      "p and R\n",
      "100 L 152 3\n",
      "calculated value functions\n",
      "done modeling\n"
     ]
    }
   ],
   "source": [
    "# select a candidate-safety dataset split\n",
    "split_ratio = 0.5\n",
    "episodes_of_data = 100\n",
    "\n",
    "# runs over the selected environment to generate episodes of data\n",
    "datasetGenerator = Dataset(int(episodes_of_data * (1 - split_ratio)), env)\n",
    "# generate data with the initial random policy\n",
    "candidateDataset = datasetGenerator.generate_dataset(theta)\n",
    "# Create mle model for estimating p and R\n",
    "model = Model(env, candidateDataset, int(episodes_of_data * (1 - split_ratio)), env.getNumDiscreteStates(), env.getNumActions(), env.horizonLength)\n",
    "candidateDataset = model.makeMLEModel()\n",
    "\n",
    "datasetGenerator = Dataset(int(episodes_of_data), env)\n",
    "theta = np.zeros((env.getStateDims(), env.getNumActions()))\n",
    "safetyDataset = datasetGenerator.generate_dataset(theta)\n",
    "model = Model(env, safetyDataset, episodes_of_data, env.getNumDiscreteStates(), env.getNumActions(), env.horizonLength)\n",
    "safetyDataset = model.makeMLEModel()\n",
    "\n",
    "\n",
    "\n"
   ]
  },
  {
   "cell_type": "code",
   "execution_count": 12,
   "metadata": {},
   "outputs": [],
   "source": [
    "# print(safetyDataset)"
   ]
  },
  {
   "cell_type": "markdown",
   "metadata": {},
   "source": [
    "# QSA (Quasi Seldonian Algorithm)"
   ]
  },
  {
   "cell_type": "code",
   "execution_count": 8,
   "metadata": {
    "collapsed": true
   },
   "outputs": [],
   "source": [
    "# giving failure rate = 0.01 which is delta\n",
    "delta = 0.01\n",
    "\n",
    "# initializing QSA with all parameter selected as above (each has default values, refer to documentation)\n",
    "qsa = QSA(env, int(episodes_of_data*split_ratio), fHat, delta, candidateDataset, safetyDataset, cis=cis, optimizer=optimizer) "
   ]
  },
  {
   "cell_type": "markdown",
   "metadata": {},
   "source": [
    "# Obtaining Candidate Solution"
   ]
  },
  {
   "cell_type": "code",
   "execution_count": 9,
   "metadata": {},
   "outputs": [
    {
     "name": "stdout",
     "output_type": "stream",
     "text": [
      "CMA\n",
      "(11_w,22)-aCMA-ES (mu_w=6.5,w_1=26%) in dimension 459 (seed=976472, Sun Dec 13 00:40:33 2020)\n",
      "Iterat #Fevals   function value  axis ratio  sigma  min&max std  t[m:s]\n",
      "    1     22 1.005482245762618e+05 1.0e+00 4.93e-01  5e-01  5e-01 0:11.9\n",
      "    2     44 1.005136411861163e+05 1.0e+00 4.87e-01  5e-01  5e-01 0:28.0\n",
      "    3     66 1.004918277594110e+05 1.0e+00 4.81e-01  5e-01  5e-01 0:38.7\n",
      "    4     88 1.004465530549273e+05 1.0e+00 4.75e-01  5e-01  5e-01 0:49.5\n",
      "    5    110 1.004417032045986e+05 1.0e+00 4.70e-01  5e-01  5e-01 1:03.4\n",
      "    6    132 1.004268830628257e+05 1.0e+00 4.65e-01  5e-01  5e-01 1:17.1\n",
      "    7    154 1.004085957704779e+05 1.0e+00 4.61e-01  5e-01  5e-01 1:28.3\n",
      "    8    176 1.004012309007210e+05 1.0e+00 4.57e-01  5e-01  5e-01 1:44.1\n",
      "    9    198 1.003934124008213e+05 1.0e+00 4.54e-01  5e-01  5e-01 2:01.6\n",
      "   10    220 1.003913747338216e+05 1.0e+00 4.50e-01  4e-01  5e-01 2:10.6\n",
      "termination on maxiter=10 (Sun Dec 13 00:42:45 2020)\n",
      "final/bestever f-value = 1.003919e+05 1.003914e+05\n",
      "incumbent solution: [-0.41603885  0.75366835 -0.03729741 -0.40298208  0.17364712  0.08051965\n",
      " -0.28706351  0.3000385  ...]\n",
      "std deviations: [0.45008586 0.45008913 0.45004383 0.45007913 0.45005748 0.45007064\n",
      " 0.45003658 0.45003343 ...]\n",
      "function value at x_min is 100391.37473382156\n"
     ]
    }
   ],
   "source": [
    "solution = qsa.getCandidateSolution()"
   ]
  },
  {
   "cell_type": "markdown",
   "metadata": {},
   "source": [
    "# Performing Safety Test"
   ]
  },
  {
   "cell_type": "code",
   "execution_count": 10,
   "metadata": {
    "collapsed": true
   },
   "outputs": [],
   "source": [
    "result, estimates = qsa.fHat(solution, safetyDataset, int(episodes_of_data*split_ratio), env)\n",
    "passedSafetyTest, lb = qsa.safety_test(estimates, int(episodes_of_data*split_ratio), delta=0.01, factor=1)"
   ]
  },
  {
   "cell_type": "markdown",
   "metadata": {},
   "source": [
    "# Results"
   ]
  },
  {
   "cell_type": "code",
   "execution_count": 11,
   "metadata": {},
   "outputs": [
    {
     "name": "stdout",
     "output_type": "stream",
     "text": [
      "threshold performance =  -390 lower bound =  -645.2086476153451 DR_hat =  -480.15408762611435 passed safety test =  False\n"
     ]
    }
   ],
   "source": [
    "print(\"threshold performance = \", env.threshold,\"lower bound = \", lb, \"DR_hat = \", result, \"passed safety test = \", passedSafetyTest)"
   ]
  },
  {
   "cell_type": "markdown",
   "metadata": {
    "collapsed": true
   },
   "source": [
    " # This estimate fails on the safety set (due to low amount of data)\n",
    " # No Solution Found"
   ]
  },
  {
   "cell_type": "code",
   "execution_count": null,
   "metadata": {
    "collapsed": true
   },
   "outputs": [],
   "source": []
  },
  {
   "cell_type": "code",
   "execution_count": null,
   "metadata": {
    "collapsed": true
   },
   "outputs": [],
   "source": []
  },
  {
   "cell_type": "code",
   "execution_count": null,
   "metadata": {
    "collapsed": true
   },
   "outputs": [],
   "source": []
  },
  {
   "cell_type": "code",
   "execution_count": null,
   "metadata": {
    "collapsed": true
   },
   "outputs": [],
   "source": []
  }
 ],
 "metadata": {
  "kernelspec": {
   "display_name": "Python 3",
   "language": "python",
   "name": "python3"
  },
  "language_info": {
   "codemirror_mode": {
    "name": "ipython",
    "version": 3
   },
   "file_extension": ".py",
   "mimetype": "text/x-python",
   "name": "python",
   "nbconvert_exporter": "python",
   "pygments_lexer": "ipython3",
   "version": "3.6.9"
  }
 },
 "nbformat": 4,
 "nbformat_minor": 2
}
